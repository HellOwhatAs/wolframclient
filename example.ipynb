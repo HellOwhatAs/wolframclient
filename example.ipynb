{
 "cells": [
  {
   "cell_type": "code",
   "execution_count": 1,
   "metadata": {},
   "outputs": [],
   "source": [
    "from wolframclient.language import wl, wlexpr\n",
    "from wolframclient import section"
   ]
  },
  {
   "cell_type": "code",
   "execution_count": 2,
   "metadata": {},
   "outputs": [
    {
     "data": {
      "text/latex": [
       "$a+b$"
      ],
      "text/plain": [
       "Plus[a, b]"
      ]
     },
     "execution_count": 2,
     "metadata": {},
     "output_type": "execute_result"
    }
   ],
   "source": [
    "wl.a+wl.b"
   ]
  },
  {
   "cell_type": "code",
   "execution_count": 3,
   "metadata": {},
   "outputs": [
    {
     "data": {
      "text/latex": [
       "$\\frac{1}{20} (2 a+b)$"
      ],
      "text/plain": [
       "Times[Plus[Plus[a, b], a], Power[20, -1]]"
      ]
     },
     "execution_count": 3,
     "metadata": {},
     "output_type": "execute_result"
    }
   ],
   "source": [
    "((wl.a+wl.b+wl.a)/20)"
   ]
  },
  {
   "cell_type": "code",
   "execution_count": 4,
   "metadata": {},
   "outputs": [
    {
     "data": {
      "text/latex": [
       "$\\left\\{\\left\\{x\\to \\frac{-\\sqrt{b^2-4 a c}-b}{2 a}\\right\\},\\left\\{x\\to \\frac{\\sqrt{b^2-4 a c}-b}{2 a}\\right\\}\\right\\}$"
      ],
      "text/plain": [
       "Solve[List[Equal[Plus[Plus[Times[a, Power[x, 2]], Times[b, x]], c], 0]], x]"
      ]
     },
     "execution_count": 4,
     "metadata": {},
     "output_type": "execute_result"
    }
   ],
   "source": [
    "tmp=wl.Solve(wl.List(wl.a*wl.x**2+wl.b*wl.x+wl.c==0),wl.x)\n",
    "tmp"
   ]
  },
  {
   "cell_type": "code",
   "execution_count": 5,
   "metadata": {},
   "outputs": [
    {
     "data": {
      "text/latex": [
       "$\\left\\{\\frac{-\\sqrt{b^2-4 a c}-b}{2 a},\\frac{\\sqrt{b^2-4 a c}-b}{2 a}\\right\\}$"
      ],
      "text/plain": [
       "List[Part[Solve[List[Equal[Plus[Plus[Times[a, Power[x, 2]], Times[b, x]], c], 0]], x], 1, 1, 2], Part[Solve[List[Equal[Plus[Plus[Times[a, Power[x, 2]], Times[b, x]], c], 0]], x], 2, 1, 2]]"
      ]
     },
     "execution_count": 5,
     "metadata": {},
     "output_type": "execute_result"
    }
   ],
   "source": [
    "wl.List(tmp[1,1,2],tmp[2,1,2])"
   ]
  },
  {
   "cell_type": "code",
   "execution_count": 6,
   "metadata": {},
   "outputs": [
    {
     "data": {
      "text/latex": [
       "$\\left(\n",
       "\\begin{array}{cccc}\n",
       " 1 & 2 & 3 & 4 \\\\\n",
       " 5 & 6 & 7 & 8 \\\\\n",
       " 9 & 10 & 11 & 12 \\\\\n",
       " 13 & 14 & 15 & 16 \\\\\n",
       "\\end{array}\n",
       "\\right)$"
      ],
      "text/plain": [
       "List[(1, 2, 3, 4), (5, 6, 7, 8), (9, 10, 11, 12), (13, 14, 15, 16)]"
      ]
     },
     "execution_count": 6,
     "metadata": {},
     "output_type": "execute_result"
    }
   ],
   "source": [
    "matrix=wl.List(\n",
    "    (1,2,3,4),\n",
    "    (5,6,7,8),\n",
    "    (9,10,11,12),\n",
    "    (13,14,15,16)\n",
    ")\n",
    "matrix"
   ]
  },
  {
   "cell_type": "code",
   "execution_count": 7,
   "metadata": {},
   "outputs": [
    {
     "data": {
      "text/latex": [
       "$\\left(\n",
       "\\begin{array}{cccc}\n",
       " 17+3 \\sqrt{41} & 17-3 \\sqrt{41} & 0 & 0 \\\\\n",
       " \\left\\{\\frac{5 \\left(161+27 \\sqrt{41}\\right)}{4141+639 \\sqrt{41}},\\frac{3 \\left(639+101 \\sqrt{41}\\right)}{4141+639 \\sqrt{41}},-\\frac{-3029-471 \\sqrt{41}}{4141+639 \\sqrt{41}},1\\right\\} & \\left\\{\\frac{5 \\left(27 \\sqrt{41}-161\\right)}{639 \\sqrt{41}-4141},\\frac{3 \\left(101 \\sqrt{41}-639\\right)}{639 \\sqrt{41}-4141},-\\frac{3029-471 \\sqrt{41}}{639 \\sqrt{41}-4141},1\\right\\} & \\{2,-3,0,1\\} & \\{1,-2,1,0\\} \\\\\n",
       "\\end{array}\n",
       "\\right)$"
      ],
      "text/plain": [
       "Eigensystem[List[(1, 2, 3, 4), (5, 6, 7, 8), (9, 10, 11, 12), (13, 14, 15, 16)]]"
      ]
     },
     "execution_count": 7,
     "metadata": {},
     "output_type": "execute_result"
    }
   ],
   "source": [
    "eigen=wl.Eigensystem(matrix)\n",
    "eigen"
   ]
  },
  {
   "cell_type": "code",
   "execution_count": 8,
   "metadata": {},
   "outputs": [
    {
     "data": {
      "text/latex": [
       "$\\left(\n",
       "\\begin{array}{c}\n",
       " 17-3 \\sqrt{41} \\\\\n",
       " \\left\\{\\frac{5 \\left(27 \\sqrt{41}-161\\right)}{639 \\sqrt{41}-4141},\\frac{3 \\left(101 \\sqrt{41}-639\\right)}{639 \\sqrt{41}-4141},-\\frac{3029-471 \\sqrt{41}}{639 \\sqrt{41}-4141},1\\right\\} \\\\\n",
       "\\end{array}\n",
       "\\right)$"
      ],
      "text/plain": [
       "Part[Eigensystem[List[(1, 2, 3, 4), (5, 6, 7, 8), (9, 10, 11, 12), (13, 14, 15, 16)]], Span[All, All, All], Span[2, 2, All]]"
      ]
     },
     "execution_count": 8,
     "metadata": {},
     "output_type": "execute_result"
    }
   ],
   "source": [
    "eigen[:,2:2]"
   ]
  }
 ],
 "metadata": {
  "kernelspec": {
   "display_name": "Python 3.8.10 64-bit",
   "language": "python",
   "name": "python3"
  },
  "language_info": {
   "codemirror_mode": {
    "name": "ipython",
    "version": 3
   },
   "file_extension": ".py",
   "mimetype": "text/x-python",
   "name": "python",
   "nbconvert_exporter": "python",
   "pygments_lexer": "ipython3",
   "version": "3.8.10"
  },
  "orig_nbformat": 4,
  "vscode": {
   "interpreter": {
    "hash": "ed6dadd2c3d5c318a59ba68ad9224d973bd647b4242eb4b7ad80860b1b90524b"
   }
  }
 },
 "nbformat": 4,
 "nbformat_minor": 2
}
