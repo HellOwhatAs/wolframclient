{
 "cells": [
  {
   "cell_type": "code",
   "execution_count": 1,
   "metadata": {},
   "outputs": [],
   "source": [
    "from wolframclient.language import wl, wlexpr\n",
    "from wolframclient import section"
   ]
  },
  {
   "cell_type": "code",
   "execution_count": 2,
   "metadata": {},
   "outputs": [
    {
     "data": {
      "text/latex": [
       "$a+b$"
      ],
      "text/plain": [
       "Plus[a, b]"
      ]
     },
     "execution_count": 2,
     "metadata": {},
     "output_type": "execute_result"
    }
   ],
   "source": [
    "wl.a+wl.b"
   ]
  },
  {
   "cell_type": "code",
   "execution_count": 3,
   "metadata": {},
   "outputs": [
    {
     "data": {
      "text/latex": [
       "$\\frac{1}{20} (2 a+b)$"
      ],
      "text/plain": [
       "Times[Plus[Plus[a, b], a], Power[20, -1]]"
      ]
     },
     "execution_count": 3,
     "metadata": {},
     "output_type": "execute_result"
    }
   ],
   "source": [
    "((wl.a+wl.b+wl.a)/20)"
   ]
  },
  {
   "cell_type": "code",
   "execution_count": 4,
   "metadata": {},
   "outputs": [
    {
     "data": {
      "text/plain": [
       "((Rule[x, Times[Rational[1, 2], Power[a, -1], Plus[Times[-1, b], Times[-1, Power[Plus[Power[b, 2], Times[-4, a, c]], Rational[1, 2]]]]]],),\n",
       " (Rule[x, Times[Rational[1, 2], Power[a, -1], Plus[Times[-1, b], Power[Plus[Power[b, 2], Times[-4, a, c]], Rational[1, 2]]]]],))"
      ]
     },
     "execution_count": 4,
     "metadata": {},
     "output_type": "execute_result"
    }
   ],
   "source": [
    "(ans:=section.evaluate(wl.Solve(wl.List(wl.a*wl.x**2+wl.b*wl.x+wl.c==0),wl.x)))"
   ]
  },
  {
   "cell_type": "code",
   "execution_count": 5,
   "metadata": {},
   "outputs": [
    {
     "name": "stdout",
     "output_type": "stream",
     "text": [
      "Solution 1 :\n"
     ]
    },
    {
     "data": {
      "text/latex": [
       "$x\\to -\\frac{\\sqrt{b^2-4 a c}+b}{2 a}$"
      ]
     },
     "metadata": {},
     "output_type": "display_data"
    },
    {
     "name": "stdout",
     "output_type": "stream",
     "text": [
      "Solution 2 :\n"
     ]
    },
    {
     "data": {
      "text/latex": [
       "$x\\to \\frac{\\sqrt{b^2-4 a c}-b}{2 a}$"
      ]
     },
     "metadata": {},
     "output_type": "display_data"
    }
   ],
   "source": [
    "from IPython import display\n",
    "for i,solutions in enumerate(ans):\n",
    "    print(\"Solution\",i+1,\":\")\n",
    "    for var in solutions:\n",
    "        display.display_latex(section.evaluate(wl.FullSimplify(var)))"
   ]
  }
 ],
 "metadata": {
  "kernelspec": {
   "display_name": "Python 3.8.10 64-bit",
   "language": "python",
   "name": "python3"
  },
  "language_info": {
   "codemirror_mode": {
    "name": "ipython",
    "version": 3
   },
   "file_extension": ".py",
   "mimetype": "text/x-python",
   "name": "python",
   "nbconvert_exporter": "python",
   "pygments_lexer": "ipython3",
   "version": "3.8.10"
  },
  "orig_nbformat": 4,
  "vscode": {
   "interpreter": {
    "hash": "ed6dadd2c3d5c318a59ba68ad9224d973bd647b4242eb4b7ad80860b1b90524b"
   }
  }
 },
 "nbformat": 4,
 "nbformat_minor": 2
}
